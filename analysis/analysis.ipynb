{
 "cells": [
  {
   "cell_type": "markdown",
   "id": "bf7aa629",
   "metadata": {},
   "source": [
    "# Setup"
   ]
  },
  {
   "cell_type": "code",
   "execution_count": 5,
   "id": "6edc2d7e",
   "metadata": {},
   "outputs": [],
   "source": [
    "import numpy as np\n",
    "import os\n",
    "import pickle\n",
    "import pandas as pd\n",
    "import seaborn as sns\n",
    "import matplotlib.pyplot as plt\n",
    "from scipy.stats import spearmanr\n",
    "from itertools import combinations\n",
    "from pathlib import Path\n",
    "from typing import List, Dict, Any\n",
    "from ranker import ScoreRanker"
   ]
  },
  {
   "cell_type": "code",
   "execution_count": 6,
   "id": "8623881f",
   "metadata": {},
   "outputs": [],
   "source": [
    "BASE_ARTIFACT_DIR = Path(\"/vol/bitbucket/hrm20/fyp/artifacts/\")\n",
    "BASE_OUTPUT_DIR = Path(\"/vol/bitbucket/hrm20/fyp/analysis/\")\n",
    "SUMMARY_FILENAME = \"training_dynamics_summary.pkl\"\n",
    "\n",
    "DATASETS = [\"FEVER\", \"QQP\", \"MNLI\"]\n",
    "MODEL_FAMILIES = [\"bert\", \"roberta\", \"xlnet\"]\n",
    "MODEL_SIZES = [\"base\", \"large\"]\n",
    "ALL_METRICS = ['aum', 'datamap', 'el2n', 'loss', 'forgetting', 'accuracy', 'grand']\n",
    "\n",
    "FIG_DPI = 300"
   ]
  },
  {
   "cell_type": "code",
   "execution_count": 7,
   "id": "0de30ce6",
   "metadata": {},
   "outputs": [],
   "source": [
    "def get_ranks_from_sorted_indices(sorted_indices: np.ndarray) -> np.ndarray:\n",
    "    \"\"\"Converts an array of sorted data indices into a rank array.\"\"\"\n",
    "    if sorted_indices.size == 0:\n",
    "        return np.array([])\n",
    "    ranks = np.empty_like(sorted_indices)\n",
    "    ranks[sorted_indices] = np.arange(len(sorted_indices))\n",
    "    return ranks\n",
    "\n",
    "def load_stats_from_directory(directory: Path) -> List[Dict]:\n",
    "    \"\"\"Loads all run statistics from .pkl files in a given directory.\"\"\"\n",
    "    stats_list = []\n",
    "    if not directory.is_dir():\n",
    "        print(f\"Warning: Directory not found at {directory}. Skipping.\")\n",
    "        return stats_list\n",
    "    for i in range(1, 11):\n",
    "        file_path = directory / f\"run{i}.pkl\"\n",
    "        if file_path.exists():\n",
    "            with open(file_path, \"rb\") as f:\n",
    "                eval_summary = pickle.load(f)\n",
    "                stats_list.append(eval_summary[\"raw_scores\"])\n",
    "    return stats_list\n",
    "\n",
    "def create_plot(df: pd.DataFrame, plot_type: str, title: str, filename: Path, **kwargs: Any) -> None:\n",
    "    \"\"\"Generic plot generator for heatmaps and bar plots.\"\"\"\n",
    "    plt.style.use('seaborn-v0_8-whitegrid')\n",
    "    fig, ax = plt.subplots(figsize=kwargs.get(\"figsize\", (13, 7)))\n",
    "\n",
    "    if df.empty:\n",
    "        ax.text(0.5, 0.5, \"No data to plot.\", ha='center', va='center')\n",
    "    elif plot_type == 'heatmap':\n",
    "        sns.heatmap(df, annot=True, fmt=\".2f\", cmap=kwargs.get(\"palette\"), vmin=kwargs.get(\"vmin\"), vmax=kwargs.get(\"vmax\"), ax=ax, annot_kws={\"size\": 14})\n",
    "        ax.set_xticklabels(df.columns, rotation=45, ha=\"right\")\n",
    "        ax.set_yticklabels(df.index, rotation=0)\n",
    "    elif plot_type == 'barplot':\n",
    "        sns.barplot(data=df, x='Metric', y='Correlation', hue='Group', palette=kwargs.get(\"palette\"), ax=ax)\n",
    "        ax.set_ylabel(r\"Spearman's Correlation ($\\rho$)\", fontsize=18)\n",
    "        ax.set_xlabel(\"Hardness Metric\", fontsize=18)\n",
    "        ax.tick_params(axis='x', rotation=45, labelsize=16)\n",
    "        ax.tick_params(axis='y', labelsize=16)\n",
    "        ax.legend(title=kwargs.get(\"hue_title\"), title_fontsize=16, loc='upper left', bbox_to_anchor=(1.01, 1), fontsize=14)\n",
    "        plt.subplots_adjust(right=0.80)\n",
    "\n",
    "    ax.set_title(title, fontsize=20, pad=20)\n",
    "    filename.parent.mkdir(parents=True, exist_ok=True)\n",
    "    plt.savefig(filename, dpi=FIG_DPI, bbox_inches='tight')\n",
    "    plt.close(fig)\n",
    "    print(f\"Plot saved to {filename}\")\n"
   ]
  },
  {
   "cell_type": "code",
   "execution_count": 8,
   "id": "cc578f73",
   "metadata": {},
   "outputs": [],
   "source": [
    "def _get_average_final_ranks(stats_list: List[Dict], metrics: List[str]) -> Dict[str, np.ndarray]:\n",
    "    \"\"\"Calculates the average final-epoch ranks across multiple runs.\"\"\"\n",
    "    all_ranks = {metric: [] for metric in metrics}\n",
    "    for stats in stats_list:\n",
    "        ranker = ScoreRanker(stats) \n",
    "        ranked_indices = ranker.get_ranked_indices()\n",
    "        for metric in metrics:\n",
    "            if ranked_indices.get(metric):\n",
    "                final_indices = ranked_indices[metric][-1]\n",
    "                if len(final_indices) > 0:\n",
    "                    all_ranks[metric].append(get_ranks_from_sorted_indices(final_indices))\n",
    "    avg_ranks = {}\n",
    "    for metric, ranks_list in all_ranks.items():\n",
    "        if ranks_list:\n",
    "            avg_ranks[metric] = np.mean(np.vstack(ranks_list), axis=0)\n",
    "    return avg_ranks\n",
    "\n",
    "def _get_cross_seed_correlations(stats_list: List[Dict], metrics: List[str]) -> Dict[str, List[float]]:\n",
    "    \"\"\"Computes pairwise Spearman correlations across seeds for each metric.\"\"\"\n",
    "    corrs = {metric: [] for metric in metrics}\n",
    "    ranks_by_metric = {m: [] for m in metrics}\n",
    "    for stats in stats_list:\n",
    "        ranker = ScoreRanker(stats)\n",
    "        ranked_indices = ranker.get_ranked_indices()\n",
    "        for metric in metrics:\n",
    "            if ranked_indices.get(metric):\n",
    "                final_indices = ranked_indices[metric][-1]\n",
    "                if len(final_indices) > 0:\n",
    "                    ranks_by_metric[metric].append(get_ranks_from_sorted_indices(final_indices))\n",
    "    for metric, ranks in ranks_by_metric.items():\n",
    "        if len(ranks) >= 2:\n",
    "            for r1, r2 in combinations(ranks, 2):\n",
    "                corr, _ = spearmanr(r1, r2)\n",
    "                if not np.isnan(corr):\n",
    "                    corrs[metric].append(corr)\n",
    "    return corrs\n",
    "\n",
    "def create_summary_file() -> None:\n",
    "    \"\"\"\n",
    "    Calculates average ranks and cross-seed correlations for all experiments\n",
    "    and saves the results to a single summary file.\n",
    "    \"\"\"\n",
    "    print(\"--- Starting pre-processing to create summary file ---\")\n",
    "    results = {\"avg_ranks\": {}, \"cross_seed_corrs\": {}}\n",
    "    summary_path = BASE_OUTPUT_DIR / SUMMARY_FILENAME\n",
    "    for ds in DATASETS:\n",
    "        results[\"avg_ranks\"][ds] = {}\n",
    "        results[\"cross_seed_corrs\"][ds] = {}\n",
    "        for family in MODEL_FAMILIES:\n",
    "            for size in MODEL_SIZES:\n",
    "                model_key = f\"{family}_{size}\"\n",
    "                model_path = BASE_ARTIFACT_DIR / f\"{model_key}_{ds.lower()}/\"\n",
    "                print(f\"Processing: {model_key} on {ds}...\")\n",
    "                stats_list = load_stats_from_directory(model_path)\n",
    "                if not stats_list: continue\n",
    "                # This logic correctly excludes 'grand' for non-roberta models\n",
    "                metrics_to_use = ALL_METRICS if family == 'roberta' else [m for m in ALL_METRICS if m != 'grand']\n",
    "                results[\"avg_ranks\"][ds][model_key] = _get_average_final_ranks(stats_list, metrics_to_use)\n",
    "                results[\"cross_seed_corrs\"][ds][model_key] = _get_cross_seed_correlations(stats_list, metrics_to_use)\n",
    "    summary_path.parent.mkdir(exist_ok=True)\n",
    "    with open(summary_path, \"wb\") as f: pickle.dump(results, f)\n",
    "    print(f\"Pre-processing complete. Data saved to '{summary_path}'\")"
   ]
  },
  {
   "cell_type": "markdown",
   "id": "21697789",
   "metadata": {},
   "source": [
    "# Research Question 1"
   ]
  },
  {
   "cell_type": "code",
   "execution_count": 9,
   "id": "78c0c47c",
   "metadata": {},
   "outputs": [],
   "source": [
    "def generate_rq1_correlation_heatmaps(model_path: Path, title_name: str, output_dir: Path, metrics: List[str], model_key: str, dataset: str) -> None:\n",
    "    \"\"\"Analyzes and plots metric correlation heatmaps (RQ1).\"\"\"\n",
    "    print(f\"  -> Generating RQ1 plots for {title_name}\")\n",
    "    stats_list = load_stats_from_directory(model_path)\n",
    "    if not stats_list: return\n",
    "\n",
    "    all_run_matrices = []\n",
    "    method_names_in_data = [] \n",
    "\n",
    "    for stats in stats_list:\n",
    "        ranker = ScoreRanker(stats)\n",
    "        ranked_indices = {k: v for k, v in ranker.get_ranked_indices().items() if k in metrics}\n",
    "        if not ranked_indices: continue\n",
    "        \n",
    "        method_names_in_data = list(ranked_indices.keys())\n",
    "        num_epochs = len(next(iter(ranked_indices.values()), []))\n",
    "        epoch_corr_matrices = []\n",
    "\n",
    "        for epoch in range(num_epochs):\n",
    "            epoch_ranks = {method: get_ranks_from_sorted_indices(indices[epoch]) for method, indices in ranked_indices.items()}\n",
    "            ranks_df = pd.DataFrame(epoch_ranks)\n",
    "            if not ranks_df.empty:\n",
    "                epoch_corr_matrices.append(ranks_df.corr(method='spearman').to_numpy())\n",
    "        if epoch_corr_matrices:\n",
    "            all_run_matrices.append(np.nanmean(epoch_corr_matrices, axis=0))\n",
    "\n",
    "    if not all_run_matrices: return\n",
    "    \n",
    "    avg_matrix = pd.DataFrame(np.nanmean(all_run_matrices, axis=0), index=method_names_in_data, columns=method_names_in_data)\n",
    "    std_matrix = pd.DataFrame(np.nanstd(all_run_matrices, axis=0), index=method_names_in_data, columns=method_names_in_data)\n",
    "    \n",
    "    rq1_figsize = (12, 10)\n",
    "    \n",
    "    avg_filename = output_dir / f\"{model_key}_{dataset.lower()}_rq1_avg_correlation.png\"\n",
    "    std_filename = output_dir / f\"{model_key}_{dataset.lower()}_rq1_std_correlation.png\"\n",
    "    \n",
    "    create_plot(avg_matrix, 'heatmap', f\"Average Metric Correlation\\n({title_name})\", avg_filename, palette=\"vlag\", vmin=-1, vmax=1, figsize=rq1_figsize)\n",
    "    create_plot(std_matrix, 'heatmap', f\"Std. Dev. of Metric Correlation\\n({title_name})\", std_filename, palette=\"viridis_r\", vmin=0, vmax=0.25, figsize=rq1_figsize)\n"
   ]
  },
  {
   "cell_type": "markdown",
   "id": "cd6d186b",
   "metadata": {},
   "source": [
    "# Research Question 2"
   ]
  },
  {
   "cell_type": "code",
   "execution_count": 10,
   "id": "ace2b1f9",
   "metadata": {},
   "outputs": [],
   "source": [
    "def generate_rq2_plots(all_ranks: Dict, output_dir: Path) -> None:\n",
    "    \"\"\"Generates all consistency plots for RQ2.\"\"\"\n",
    "    print(\"  -> Generating RQ2 plots\")\n",
    "    \n",
    "    # --- RQ2.1: Cross-Scale Consistency ---\n",
    "    for family in MODEL_FAMILIES:\n",
    "        plot_data = []\n",
    "        for ds in DATASETS:\n",
    "            base_ranks = all_ranks.get(ds, {}).get(f\"{family}_base\", {})\n",
    "            large_ranks = all_ranks.get(ds, {}).get(f\"{family}_large\", {})\n",
    "            \n",
    "            # Find all common metrics first\n",
    "            metrics_to_plot = list(base_ranks.keys() & large_ranks.keys())\n",
    "            \n",
    "            # Filter 'grand' if experiment is not roberta\n",
    "            if family != 'roberta' and 'grand' in metrics_to_plot:\n",
    "                metrics_to_plot.remove('grand')\n",
    "\n",
    "            for metric in metrics_to_plot:\n",
    "                corr, _ = spearmanr(base_ranks[metric], large_ranks[metric])\n",
    "                plot_data.append({'Group': ds, 'Metric': metric, 'Correlation': corr if not np.isnan(corr) else 0.0})\n",
    "        \n",
    "        df = pd.DataFrame(plot_data)\n",
    "        create_plot(df, 'barplot', f'{family.upper()} Consistency (Base vs. Large)', output_dir / f'rq2.1_cross_scale_{family}.png', palette=\"YlGnBu\", hue_title='Dataset')\n",
    "\n",
    "    # --- RQ2.2: Cross-Architecture Consistency ---\n",
    "    for ds in DATASETS:\n",
    "        plot_data = []\n",
    "        for fam1, fam2 in combinations(MODEL_FAMILIES, 2):\n",
    "            ranks1 = all_ranks.get(ds, {}).get(f\"{fam1}_base\", {})\n",
    "            ranks2 = all_ranks.get(ds, {}).get(f\"{fam2}_base\", {})\n",
    "            \n",
    "            metrics_to_plot = list(ranks1.keys() & ranks2.keys())\n",
    "            if (fam1 != 'roberta' or fam2 != 'roberta') and 'grand' in metrics_to_plot:\n",
    "                metrics_to_plot.remove('grand')\n",
    "\n",
    "            for metric in metrics_to_plot:\n",
    "                corr, _ = spearmanr(ranks1[metric], ranks2[metric])\n",
    "                plot_data.append({'Group': f\"{fam1.upper()} vs {fam2.upper()}\", 'Metric': metric, 'Correlation': corr if not np.isnan(corr) else 0.0})\n",
    "        \n",
    "        df = pd.DataFrame(plot_data)\n",
    "        create_plot(df, 'barplot', f'Cross-Architecture Consistency on {ds} (Base Models)', output_dir / f'rq2.2_cross_arch_{ds.lower()}.png', palette=\"Greens\", hue_title='Comparison')"
   ]
  },
  {
   "cell_type": "markdown",
   "id": "25c4f459",
   "metadata": {},
   "source": [
    "# Research Question 3"
   ]
  },
  {
   "cell_type": "code",
   "execution_count": 11,
   "id": "83ad3140",
   "metadata": {},
   "outputs": [],
   "source": [
    "def generate_rq3_plots(model_name: str, dataset: str, output_dir: Path, cross_seed_data: Dict, metrics_for_rq3: List[str]) -> None:\n",
    "    \"\"\"Generates all stability plots for RQ3 using the original styling and correct filtering.\"\"\"\n",
    "    print(f\"  -> Generating RQ3 plots for {model_name} on {dataset}\")\n",
    "    \n",
    "    # --- RQ3.1: Seed Stability (Bar Plot) ---\n",
    "    stability_scores = {\n",
    "        metric: np.mean(corrs) \n",
    "        for metric, corrs in cross_seed_data.items() \n",
    "        if corrs and metric in metrics_for_rq3\n",
    "    }\n",
    "    \n",
    "    if stability_scores:\n",
    "        plt.style.use('seaborn-v0_8-whitegrid')\n",
    "        fig, ax = plt.subplots(figsize=(10, 6))\n",
    "        \n",
    "        labels = list(stability_scores.keys())\n",
    "        values = list(stability_scores.values())\n",
    "        \n",
    "        sns.barplot(x=labels, y=values, palette=\"viridis\", width=0.6, ax=ax)\n",
    "        \n",
    "        ax.set_title(f'Metric Stability Across Random Seeds\\n({model_name.replace(\"_\", \"-\").title()} on {dataset})', fontsize=16, pad=20)\n",
    "        ax.set_ylabel(r\"Average Pairwise Spearman's Correlation ($\\rho$)\", fontsize=12)\n",
    "        ax.set_xlabel(\"Hardness Metric\", fontsize=12)\n",
    "        ax.set_ylim(0, 1.05)\n",
    "        ax.tick_params(axis='x', rotation=45)\n",
    "        \n",
    "        for i, v in enumerate(values):\n",
    "            ax.text(i, v + 0.02, f\"{v:.2f}\", ha='center', color='black')\n",
    "        \n",
    "        filename = output_dir / f\"{model_name}_{dataset.lower()}_rq3_1_seed_stability.png\"\n",
    "        filename.parent.mkdir(parents=True, exist_ok=True)\n",
    "        plt.savefig(filename, dpi=FIG_DPI, bbox_inches='tight')\n",
    "        plt.close(fig)\n",
    "        print(f\"Plot saved to {filename}\")\n",
    "\n",
    "    # --- RQ3.2: Epoch Stability (Line Plot) ---\n",
    "    model_path = BASE_ARTIFACT_DIR / f\"{model_name}_{dataset.lower()}/\"\n",
    "    stats_list = load_stats_from_directory(model_path)\n",
    "    if not stats_list: return\n",
    "\n",
    "    ranker = ScoreRanker(stats_list[0])\n",
    "    ranked_indices = ranker.get_ranked_indices()\n",
    "    \n",
    "    plt.style.use('seaborn-v0_8-whitegrid')\n",
    "    fig, ax = plt.subplots(figsize=(12, 7))\n",
    "    epochs = np.array([])\n",
    "    \n",
    "    for metric in metrics_for_rq3:\n",
    "        if ranked_indices.get(metric):\n",
    "            epoch_ranks_list = [get_ranks_from_sorted_indices(e) for e in ranked_indices[metric]]\n",
    "            if not epoch_ranks_list: continue\n",
    "            \n",
    "            final_ranks = epoch_ranks_list[-1]\n",
    "            correlations = [spearmanr(epoch_ranks, final_ranks).correlation for epoch_ranks in epoch_ranks_list]\n",
    "            epochs = np.arange(1, len(correlations) + 1)\n",
    "            sns.lineplot(x=epochs, y=correlations, label=metric.capitalize(), marker='o', markersize=7, lw=2.5, ax=ax)\n",
    "\n",
    "    if epochs.size > 0:\n",
    "        ax.set_title(f'Metric Stability Across Epochs\\n({model_name.replace(\"_\", \"-\").title()} on {dataset})', fontsize=16, pad=20)\n",
    "        ax.set_xlabel(\"Epoch\", fontsize=12)\n",
    "        ax.set_ylabel(r\"Spearman's Correlation ($\\rho$) vs. Final Epoch Rank\", fontsize=12)\n",
    "        ax.legend(title=\"Metric\")\n",
    "        ax.grid(True, which='both', linestyle='--')\n",
    "        ax.set_xticks(epochs)\n",
    "        \n",
    "        filename = output_dir / f\"{model_name}_{dataset.lower()}_rq3_2_epoch_stability.png\"\n",
    "        filename.parent.mkdir(parents=True, exist_ok=True)\n",
    "        plt.savefig(filename, dpi=FIG_DPI, bbox_inches='tight')\n",
    "        \n",
    "    plt.close(fig)\n",
    "    if epochs.size > 0:\n",
    "        print(f\"Plot saved to {filename}\")"
   ]
  },
  {
   "cell_type": "markdown",
   "id": "5c826c9e",
   "metadata": {},
   "source": [
    "# Summary"
   ]
  },
  {
   "cell_type": "code",
   "execution_count": 12,
   "id": "bd9b6cde",
   "metadata": {},
   "outputs": [],
   "source": [
    "def generate_summary_plots(all_ranks: Dict, cross_seed_corrs: Dict, output_dir: Path) -> None:\n",
    "    \"\"\"\n",
    "    Aggregates consistency scores across all experiments (excluding 'grand') \n",
    "    and generates summary plots.\n",
    "    \"\"\"\n",
    "    print(\"\\n--- Generating final summary plots ---\")\n",
    "    metrics_for_summary = [m for m in ALL_METRICS if m != 'grand']\n",
    "\n",
    "    # 1. Aggregate scores from all experiments into three categories\n",
    "    summary_scores = {\n",
    "        'Cross-Seed': {m: [] for m in metrics_for_summary},\n",
    "        'Cross-Scale': {m: [] for m in metrics_for_summary},\n",
    "        'Cross-Architecture': {m: [] for m in metrics_for_summary}\n",
    "    }\n",
    "\n",
    "    # --- Aggregate Cross-Seed scores ---\n",
    "    for ds_data in cross_seed_corrs.values():\n",
    "        for model_data in ds_data.values():\n",
    "            for metric, corrs in model_data.items():\n",
    "                if metric in summary_scores['Cross-Seed']:\n",
    "                    summary_scores['Cross-Seed'][metric].extend(corrs)\n",
    "\n",
    "    # --- Aggregate Cross-Scale scores ---\n",
    "    for ds in DATASETS:\n",
    "        for family in MODEL_FAMILIES:\n",
    "            base = all_ranks.get(ds, {}).get(f\"{family}_base\", {})\n",
    "            large = all_ranks.get(ds, {}).get(f\"{family}_large\", {})\n",
    "            for metric in base.keys() & large.keys():\n",
    "                if metric in summary_scores['Cross-Scale']:\n",
    "                    corr, _ = spearmanr(base[metric], large[metric])\n",
    "                    if not np.isnan(corr):\n",
    "                        summary_scores['Cross-Scale'][metric].append(corr)\n",
    "\n",
    "    # --- Aggregate Cross-Architecture scores ---\n",
    "    for ds in DATASETS:\n",
    "        for fam1, fam2 in combinations(MODEL_FAMILIES, 2):\n",
    "            ranks1 = all_ranks.get(ds, {}).get(f\"{fam1}_base\", {})\n",
    "            ranks2 = all_ranks.get(ds, {}).get(f\"{fam2}_base\", {})\n",
    "            for metric in ranks1.keys() & ranks2.keys():\n",
    "                if metric in summary_scores['Cross-Architecture']:\n",
    "                    corr, _ = spearmanr(ranks1[metric], ranks2[metric])\n",
    "                    if not np.isnan(corr):\n",
    "                        summary_scores['Cross-Architecture'][metric].append(corr)\n",
    "\n",
    "    # Filter out metrics that have no data to prevent errors\n",
    "    filtered_summary_scores = {\n",
    "        category: {metric: scores for metric, scores in data.items() if scores}\n",
    "        for category, data in summary_scores.items()\n",
    "    }\n",
    "    \n",
    "    if not any(filtered_summary_scores.values()):\n",
    "        print(\"No data available for summary plots. Skipping.\")\n",
    "        return\n",
    "\n",
    "    # 2. Generate Plot 1: Overall summary bar chart\n",
    "    labels = list(filtered_summary_scores.keys())\n",
    "    palette = sns.color_palette(\"YlGnBu\", n_colors=len(labels))\n",
    "\n",
    "    mean_scores = [\n",
    "        np.mean([s for scores in filtered_summary_scores[label].values() for s in scores])\n",
    "        for label in labels\n",
    "    ]\n",
    "\n",
    "    plt.figure(figsize=(8, 4))\n",
    "    bars = plt.bar(labels, mean_scores, color=palette)\n",
    "    plt.ylabel(\"Average Spearman Correlation\", fontsize=14)\n",
    "    plt.title(\"Consistency of Training Dynamics\", fontsize=15)\n",
    "    plt.ylim(0, 1)\n",
    "\n",
    "    for bar in bars:\n",
    "        h = bar.get_height()\n",
    "        plt.text(bar.get_x() + bar.get_width() / 2, h + 0.015, f\"{h:.2f}\", ha=\"center\", fontsize=12)\n",
    "\n",
    "    plt.tight_layout()\n",
    "    plt.savefig(output_dir / \"summary_overall_consistency.png\", dpi=FIG_DPI)\n",
    "    plt.show()\n",
    "\n",
    "    # 3. Generate Plot 2: Per-metric grouped bar chart\n",
    "    metrics_to_plot = list(next(iter(filtered_summary_scores.values())).keys())\n",
    "    x = np.arange(len(metrics_to_plot))\n",
    "    width = 0.25\n",
    "\n",
    "    plt.figure(figsize=(14, 6))\n",
    "    for i, (label, color) in enumerate(zip(labels, palette)):\n",
    "        means = [np.mean(filtered_summary_scores[label].get(m, [0])) for m in metrics_to_plot]\n",
    "        plt.bar(x + i * width, means, width=width, label=label, color=color)\n",
    "\n",
    "    plt.xticks(x + width * (len(labels) - 1) / 2, metrics_to_plot, rotation=45, fontsize=12)\n",
    "    plt.ylim(0, 1)\n",
    "    plt.ylabel(\"Average Spearman Correlation\", fontsize=14)\n",
    "    plt.title(\"Per-Metric Consistency Across Experiments\", fontsize=16)\n",
    "    plt.legend(loc=\"upper left\", bbox_to_anchor=(1.01, 1), fontsize=12)\n",
    "    plt.subplots_adjust(right=0.85)\n",
    "    plt.tight_layout()\n",
    "    plt.savefig(output_dir / \"summary_per_metric_consistency.png\", dpi=FIG_DPI)\n",
    "    plt.show()"
   ]
  },
  {
   "cell_type": "markdown",
   "id": "838f2d5f",
   "metadata": {},
   "source": [
    "# Run"
   ]
  },
  {
   "cell_type": "code",
   "execution_count": 13,
   "id": "a5917faa",
   "metadata": {},
   "outputs": [
    {
     "name": "stdout",
     "output_type": "stream",
     "text": [
      "\n",
      "--- Loading pre-processed data from '/vol/bitbucket/hrm20/fyp/analysis/training_dynamics_summary.pkl' ---\n",
      "\n",
      "--- Generating all analysis plots ---\n",
      "  -> Generating RQ2 plots\n",
      "Plot saved to /vol/bitbucket/hrm20/fyp/analysis/RQ2/rq2.1_cross_scale_bert.png\n",
      "Plot saved to /vol/bitbucket/hrm20/fyp/analysis/RQ2/rq2.1_cross_scale_roberta.png\n",
      "Plot saved to /vol/bitbucket/hrm20/fyp/analysis/RQ2/rq2.1_cross_scale_xlnet.png\n",
      "Plot saved to /vol/bitbucket/hrm20/fyp/analysis/RQ2/rq2.2_cross_arch_fever.png\n",
      "Plot saved to /vol/bitbucket/hrm20/fyp/analysis/RQ2/rq2.2_cross_arch_qqp.png\n",
      "Plot saved to /vol/bitbucket/hrm20/fyp/analysis/RQ2/rq2.2_cross_arch_mnli.png\n",
      "  -> Generating RQ1 plots for Bert-Base on FEVER\n",
      "Plot saved to /vol/bitbucket/hrm20/fyp/analysis/RQ1/bert_base_fever_rq1_avg_correlation.png\n",
      "Plot saved to /vol/bitbucket/hrm20/fyp/analysis/RQ1/bert_base_fever_rq1_std_correlation.png\n",
      "  -> Generating RQ3 plots for bert_base on FEVER\n"
     ]
    },
    {
     "name": "stderr",
     "output_type": "stream",
     "text": [
      "/tmp/ipykernel_3987033/2227277631.py:19: FutureWarning: \n",
      "\n",
      "Passing `palette` without assigning `hue` is deprecated and will be removed in v0.14.0. Assign the `x` variable to `hue` and set `legend=False` for the same effect.\n",
      "\n",
      "  sns.barplot(x=labels, y=values, palette=\"viridis\", width=0.6, ax=ax)\n"
     ]
    },
    {
     "name": "stdout",
     "output_type": "stream",
     "text": [
      "Plot saved to /vol/bitbucket/hrm20/fyp/analysis/RQ3/bert_base_fever_rq3_1_seed_stability.png\n",
      "Plot saved to /vol/bitbucket/hrm20/fyp/analysis/RQ3/bert_base_fever_rq3_2_epoch_stability.png\n",
      "  -> Generating RQ1 plots for Bert-Large on FEVER\n",
      "Plot saved to /vol/bitbucket/hrm20/fyp/analysis/RQ1/bert_large_fever_rq1_avg_correlation.png\n",
      "Plot saved to /vol/bitbucket/hrm20/fyp/analysis/RQ1/bert_large_fever_rq1_std_correlation.png\n",
      "  -> Generating RQ3 plots for bert_large on FEVER\n"
     ]
    },
    {
     "name": "stderr",
     "output_type": "stream",
     "text": [
      "/tmp/ipykernel_3987033/2227277631.py:19: FutureWarning: \n",
      "\n",
      "Passing `palette` without assigning `hue` is deprecated and will be removed in v0.14.0. Assign the `x` variable to `hue` and set `legend=False` for the same effect.\n",
      "\n",
      "  sns.barplot(x=labels, y=values, palette=\"viridis\", width=0.6, ax=ax)\n"
     ]
    },
    {
     "name": "stdout",
     "output_type": "stream",
     "text": [
      "Plot saved to /vol/bitbucket/hrm20/fyp/analysis/RQ3/bert_large_fever_rq3_1_seed_stability.png\n",
      "Plot saved to /vol/bitbucket/hrm20/fyp/analysis/RQ3/bert_large_fever_rq3_2_epoch_stability.png\n",
      "  -> Generating RQ1 plots for Roberta-Base on FEVER\n",
      "Plot saved to /vol/bitbucket/hrm20/fyp/analysis/RQ1/roberta_base_fever_rq1_avg_correlation.png\n",
      "Plot saved to /vol/bitbucket/hrm20/fyp/analysis/RQ1/roberta_base_fever_rq1_std_correlation.png\n",
      "  -> Generating RQ3 plots for roberta_base on FEVER\n"
     ]
    },
    {
     "name": "stderr",
     "output_type": "stream",
     "text": [
      "/tmp/ipykernel_3987033/2227277631.py:19: FutureWarning: \n",
      "\n",
      "Passing `palette` without assigning `hue` is deprecated and will be removed in v0.14.0. Assign the `x` variable to `hue` and set `legend=False` for the same effect.\n",
      "\n",
      "  sns.barplot(x=labels, y=values, palette=\"viridis\", width=0.6, ax=ax)\n"
     ]
    },
    {
     "name": "stdout",
     "output_type": "stream",
     "text": [
      "Plot saved to /vol/bitbucket/hrm20/fyp/analysis/RQ3/roberta_base_fever_rq3_1_seed_stability.png\n",
      "Plot saved to /vol/bitbucket/hrm20/fyp/analysis/RQ3/roberta_base_fever_rq3_2_epoch_stability.png\n",
      "  -> Generating RQ1 plots for Roberta-Large on FEVER\n",
      "Plot saved to /vol/bitbucket/hrm20/fyp/analysis/RQ1/roberta_large_fever_rq1_avg_correlation.png\n",
      "Plot saved to /vol/bitbucket/hrm20/fyp/analysis/RQ1/roberta_large_fever_rq1_std_correlation.png\n",
      "  -> Generating RQ3 plots for roberta_large on FEVER\n"
     ]
    },
    {
     "name": "stderr",
     "output_type": "stream",
     "text": [
      "/tmp/ipykernel_3987033/2227277631.py:19: FutureWarning: \n",
      "\n",
      "Passing `palette` without assigning `hue` is deprecated and will be removed in v0.14.0. Assign the `x` variable to `hue` and set `legend=False` for the same effect.\n",
      "\n",
      "  sns.barplot(x=labels, y=values, palette=\"viridis\", width=0.6, ax=ax)\n"
     ]
    },
    {
     "name": "stdout",
     "output_type": "stream",
     "text": [
      "Plot saved to /vol/bitbucket/hrm20/fyp/analysis/RQ3/roberta_large_fever_rq3_1_seed_stability.png\n",
      "Plot saved to /vol/bitbucket/hrm20/fyp/analysis/RQ3/roberta_large_fever_rq3_2_epoch_stability.png\n",
      "  -> Generating RQ1 plots for Xlnet-Base on FEVER\n",
      "Plot saved to /vol/bitbucket/hrm20/fyp/analysis/RQ1/xlnet_base_fever_rq1_avg_correlation.png\n",
      "Plot saved to /vol/bitbucket/hrm20/fyp/analysis/RQ1/xlnet_base_fever_rq1_std_correlation.png\n",
      "  -> Generating RQ3 plots for xlnet_base on FEVER\n"
     ]
    },
    {
     "name": "stderr",
     "output_type": "stream",
     "text": [
      "/tmp/ipykernel_3987033/2227277631.py:19: FutureWarning: \n",
      "\n",
      "Passing `palette` without assigning `hue` is deprecated and will be removed in v0.14.0. Assign the `x` variable to `hue` and set `legend=False` for the same effect.\n",
      "\n",
      "  sns.barplot(x=labels, y=values, palette=\"viridis\", width=0.6, ax=ax)\n"
     ]
    },
    {
     "name": "stdout",
     "output_type": "stream",
     "text": [
      "Plot saved to /vol/bitbucket/hrm20/fyp/analysis/RQ3/xlnet_base_fever_rq3_1_seed_stability.png\n",
      "Plot saved to /vol/bitbucket/hrm20/fyp/analysis/RQ3/xlnet_base_fever_rq3_2_epoch_stability.png\n",
      "  -> Generating RQ1 plots for Xlnet-Large on FEVER\n",
      "Plot saved to /vol/bitbucket/hrm20/fyp/analysis/RQ1/xlnet_large_fever_rq1_avg_correlation.png\n",
      "Plot saved to /vol/bitbucket/hrm20/fyp/analysis/RQ1/xlnet_large_fever_rq1_std_correlation.png\n",
      "  -> Generating RQ3 plots for xlnet_large on FEVER\n"
     ]
    },
    {
     "name": "stderr",
     "output_type": "stream",
     "text": [
      "/tmp/ipykernel_3987033/2227277631.py:19: FutureWarning: \n",
      "\n",
      "Passing `palette` without assigning `hue` is deprecated and will be removed in v0.14.0. Assign the `x` variable to `hue` and set `legend=False` for the same effect.\n",
      "\n",
      "  sns.barplot(x=labels, y=values, palette=\"viridis\", width=0.6, ax=ax)\n"
     ]
    },
    {
     "name": "stdout",
     "output_type": "stream",
     "text": [
      "Plot saved to /vol/bitbucket/hrm20/fyp/analysis/RQ3/xlnet_large_fever_rq3_1_seed_stability.png\n",
      "Plot saved to /vol/bitbucket/hrm20/fyp/analysis/RQ3/xlnet_large_fever_rq3_2_epoch_stability.png\n",
      "  -> Generating RQ1 plots for Bert-Base on QQP\n",
      "Plot saved to /vol/bitbucket/hrm20/fyp/analysis/RQ1/bert_base_qqp_rq1_avg_correlation.png\n",
      "Plot saved to /vol/bitbucket/hrm20/fyp/analysis/RQ1/bert_base_qqp_rq1_std_correlation.png\n",
      "  -> Generating RQ3 plots for bert_base on QQP\n"
     ]
    },
    {
     "name": "stderr",
     "output_type": "stream",
     "text": [
      "/tmp/ipykernel_3987033/2227277631.py:19: FutureWarning: \n",
      "\n",
      "Passing `palette` without assigning `hue` is deprecated and will be removed in v0.14.0. Assign the `x` variable to `hue` and set `legend=False` for the same effect.\n",
      "\n",
      "  sns.barplot(x=labels, y=values, palette=\"viridis\", width=0.6, ax=ax)\n"
     ]
    },
    {
     "name": "stdout",
     "output_type": "stream",
     "text": [
      "Plot saved to /vol/bitbucket/hrm20/fyp/analysis/RQ3/bert_base_qqp_rq3_1_seed_stability.png\n",
      "Plot saved to /vol/bitbucket/hrm20/fyp/analysis/RQ3/bert_base_qqp_rq3_2_epoch_stability.png\n",
      "  -> Generating RQ1 plots for Bert-Large on QQP\n",
      "Plot saved to /vol/bitbucket/hrm20/fyp/analysis/RQ1/bert_large_qqp_rq1_avg_correlation.png\n",
      "Plot saved to /vol/bitbucket/hrm20/fyp/analysis/RQ1/bert_large_qqp_rq1_std_correlation.png\n",
      "  -> Generating RQ3 plots for bert_large on QQP\n"
     ]
    },
    {
     "name": "stderr",
     "output_type": "stream",
     "text": [
      "/tmp/ipykernel_3987033/2227277631.py:19: FutureWarning: \n",
      "\n",
      "Passing `palette` without assigning `hue` is deprecated and will be removed in v0.14.0. Assign the `x` variable to `hue` and set `legend=False` for the same effect.\n",
      "\n",
      "  sns.barplot(x=labels, y=values, palette=\"viridis\", width=0.6, ax=ax)\n"
     ]
    },
    {
     "name": "stdout",
     "output_type": "stream",
     "text": [
      "Plot saved to /vol/bitbucket/hrm20/fyp/analysis/RQ3/bert_large_qqp_rq3_1_seed_stability.png\n",
      "Plot saved to /vol/bitbucket/hrm20/fyp/analysis/RQ3/bert_large_qqp_rq3_2_epoch_stability.png\n",
      "  -> Generating RQ1 plots for Roberta-Base on QQP\n",
      "Plot saved to /vol/bitbucket/hrm20/fyp/analysis/RQ1/roberta_base_qqp_rq1_avg_correlation.png\n",
      "Plot saved to /vol/bitbucket/hrm20/fyp/analysis/RQ1/roberta_base_qqp_rq1_std_correlation.png\n",
      "  -> Generating RQ3 plots for roberta_base on QQP\n"
     ]
    },
    {
     "name": "stderr",
     "output_type": "stream",
     "text": [
      "/tmp/ipykernel_3987033/2227277631.py:19: FutureWarning: \n",
      "\n",
      "Passing `palette` without assigning `hue` is deprecated and will be removed in v0.14.0. Assign the `x` variable to `hue` and set `legend=False` for the same effect.\n",
      "\n",
      "  sns.barplot(x=labels, y=values, palette=\"viridis\", width=0.6, ax=ax)\n"
     ]
    },
    {
     "name": "stdout",
     "output_type": "stream",
     "text": [
      "Plot saved to /vol/bitbucket/hrm20/fyp/analysis/RQ3/roberta_base_qqp_rq3_1_seed_stability.png\n",
      "Plot saved to /vol/bitbucket/hrm20/fyp/analysis/RQ3/roberta_base_qqp_rq3_2_epoch_stability.png\n",
      "  -> Generating RQ1 plots for Roberta-Large on QQP\n",
      "Plot saved to /vol/bitbucket/hrm20/fyp/analysis/RQ1/roberta_large_qqp_rq1_avg_correlation.png\n",
      "Plot saved to /vol/bitbucket/hrm20/fyp/analysis/RQ1/roberta_large_qqp_rq1_std_correlation.png\n",
      "  -> Generating RQ3 plots for roberta_large on QQP\n"
     ]
    },
    {
     "name": "stderr",
     "output_type": "stream",
     "text": [
      "/tmp/ipykernel_3987033/2227277631.py:19: FutureWarning: \n",
      "\n",
      "Passing `palette` without assigning `hue` is deprecated and will be removed in v0.14.0. Assign the `x` variable to `hue` and set `legend=False` for the same effect.\n",
      "\n",
      "  sns.barplot(x=labels, y=values, palette=\"viridis\", width=0.6, ax=ax)\n"
     ]
    },
    {
     "name": "stdout",
     "output_type": "stream",
     "text": [
      "Plot saved to /vol/bitbucket/hrm20/fyp/analysis/RQ3/roberta_large_qqp_rq3_1_seed_stability.png\n",
      "Plot saved to /vol/bitbucket/hrm20/fyp/analysis/RQ3/roberta_large_qqp_rq3_2_epoch_stability.png\n",
      "  -> Generating RQ1 plots for Xlnet-Base on QQP\n",
      "Plot saved to /vol/bitbucket/hrm20/fyp/analysis/RQ1/xlnet_base_qqp_rq1_avg_correlation.png\n",
      "Plot saved to /vol/bitbucket/hrm20/fyp/analysis/RQ1/xlnet_base_qqp_rq1_std_correlation.png\n",
      "  -> Generating RQ3 plots for xlnet_base on QQP\n"
     ]
    },
    {
     "name": "stderr",
     "output_type": "stream",
     "text": [
      "/tmp/ipykernel_3987033/2227277631.py:19: FutureWarning: \n",
      "\n",
      "Passing `palette` without assigning `hue` is deprecated and will be removed in v0.14.0. Assign the `x` variable to `hue` and set `legend=False` for the same effect.\n",
      "\n",
      "  sns.barplot(x=labels, y=values, palette=\"viridis\", width=0.6, ax=ax)\n"
     ]
    },
    {
     "name": "stdout",
     "output_type": "stream",
     "text": [
      "Plot saved to /vol/bitbucket/hrm20/fyp/analysis/RQ3/xlnet_base_qqp_rq3_1_seed_stability.png\n",
      "Plot saved to /vol/bitbucket/hrm20/fyp/analysis/RQ3/xlnet_base_qqp_rq3_2_epoch_stability.png\n",
      "  -> Generating RQ1 plots for Xlnet-Large on QQP\n",
      "Plot saved to /vol/bitbucket/hrm20/fyp/analysis/RQ1/xlnet_large_qqp_rq1_avg_correlation.png\n",
      "Plot saved to /vol/bitbucket/hrm20/fyp/analysis/RQ1/xlnet_large_qqp_rq1_std_correlation.png\n",
      "  -> Generating RQ3 plots for xlnet_large on QQP\n"
     ]
    },
    {
     "name": "stderr",
     "output_type": "stream",
     "text": [
      "/tmp/ipykernel_3987033/2227277631.py:19: FutureWarning: \n",
      "\n",
      "Passing `palette` without assigning `hue` is deprecated and will be removed in v0.14.0. Assign the `x` variable to `hue` and set `legend=False` for the same effect.\n",
      "\n",
      "  sns.barplot(x=labels, y=values, palette=\"viridis\", width=0.6, ax=ax)\n"
     ]
    },
    {
     "name": "stdout",
     "output_type": "stream",
     "text": [
      "Plot saved to /vol/bitbucket/hrm20/fyp/analysis/RQ3/xlnet_large_qqp_rq3_1_seed_stability.png\n",
      "Plot saved to /vol/bitbucket/hrm20/fyp/analysis/RQ3/xlnet_large_qqp_rq3_2_epoch_stability.png\n",
      "  -> Generating RQ1 plots for Bert-Base on MNLI\n",
      "Plot saved to /vol/bitbucket/hrm20/fyp/analysis/RQ1/bert_base_mnli_rq1_avg_correlation.png\n",
      "Plot saved to /vol/bitbucket/hrm20/fyp/analysis/RQ1/bert_base_mnli_rq1_std_correlation.png\n",
      "  -> Generating RQ3 plots for bert_base on MNLI\n"
     ]
    },
    {
     "name": "stderr",
     "output_type": "stream",
     "text": [
      "/tmp/ipykernel_3987033/2227277631.py:19: FutureWarning: \n",
      "\n",
      "Passing `palette` without assigning `hue` is deprecated and will be removed in v0.14.0. Assign the `x` variable to `hue` and set `legend=False` for the same effect.\n",
      "\n",
      "  sns.barplot(x=labels, y=values, palette=\"viridis\", width=0.6, ax=ax)\n"
     ]
    },
    {
     "name": "stdout",
     "output_type": "stream",
     "text": [
      "Plot saved to /vol/bitbucket/hrm20/fyp/analysis/RQ3/bert_base_mnli_rq3_1_seed_stability.png\n",
      "Plot saved to /vol/bitbucket/hrm20/fyp/analysis/RQ3/bert_base_mnli_rq3_2_epoch_stability.png\n",
      "  -> Generating RQ1 plots for Bert-Large on MNLI\n",
      "Plot saved to /vol/bitbucket/hrm20/fyp/analysis/RQ1/bert_large_mnli_rq1_avg_correlation.png\n",
      "Plot saved to /vol/bitbucket/hrm20/fyp/analysis/RQ1/bert_large_mnli_rq1_std_correlation.png\n",
      "  -> Generating RQ3 plots for bert_large on MNLI\n"
     ]
    },
    {
     "name": "stderr",
     "output_type": "stream",
     "text": [
      "/tmp/ipykernel_3987033/2227277631.py:19: FutureWarning: \n",
      "\n",
      "Passing `palette` without assigning `hue` is deprecated and will be removed in v0.14.0. Assign the `x` variable to `hue` and set `legend=False` for the same effect.\n",
      "\n",
      "  sns.barplot(x=labels, y=values, palette=\"viridis\", width=0.6, ax=ax)\n"
     ]
    },
    {
     "name": "stdout",
     "output_type": "stream",
     "text": [
      "Plot saved to /vol/bitbucket/hrm20/fyp/analysis/RQ3/bert_large_mnli_rq3_1_seed_stability.png\n",
      "Plot saved to /vol/bitbucket/hrm20/fyp/analysis/RQ3/bert_large_mnli_rq3_2_epoch_stability.png\n",
      "  -> Generating RQ1 plots for Roberta-Base on MNLI\n",
      "Plot saved to /vol/bitbucket/hrm20/fyp/analysis/RQ1/roberta_base_mnli_rq1_avg_correlation.png\n",
      "Plot saved to /vol/bitbucket/hrm20/fyp/analysis/RQ1/roberta_base_mnli_rq1_std_correlation.png\n",
      "  -> Generating RQ3 plots for roberta_base on MNLI\n"
     ]
    },
    {
     "name": "stderr",
     "output_type": "stream",
     "text": [
      "/tmp/ipykernel_3987033/2227277631.py:19: FutureWarning: \n",
      "\n",
      "Passing `palette` without assigning `hue` is deprecated and will be removed in v0.14.0. Assign the `x` variable to `hue` and set `legend=False` for the same effect.\n",
      "\n",
      "  sns.barplot(x=labels, y=values, palette=\"viridis\", width=0.6, ax=ax)\n"
     ]
    },
    {
     "name": "stdout",
     "output_type": "stream",
     "text": [
      "Plot saved to /vol/bitbucket/hrm20/fyp/analysis/RQ3/roberta_base_mnli_rq3_1_seed_stability.png\n",
      "Plot saved to /vol/bitbucket/hrm20/fyp/analysis/RQ3/roberta_base_mnli_rq3_2_epoch_stability.png\n",
      "  -> Generating RQ1 plots for Roberta-Large on MNLI\n",
      "Plot saved to /vol/bitbucket/hrm20/fyp/analysis/RQ1/roberta_large_mnli_rq1_avg_correlation.png\n",
      "Plot saved to /vol/bitbucket/hrm20/fyp/analysis/RQ1/roberta_large_mnli_rq1_std_correlation.png\n",
      "  -> Generating RQ3 plots for roberta_large on MNLI\n"
     ]
    },
    {
     "name": "stderr",
     "output_type": "stream",
     "text": [
      "/tmp/ipykernel_3987033/2227277631.py:19: FutureWarning: \n",
      "\n",
      "Passing `palette` without assigning `hue` is deprecated and will be removed in v0.14.0. Assign the `x` variable to `hue` and set `legend=False` for the same effect.\n",
      "\n",
      "  sns.barplot(x=labels, y=values, palette=\"viridis\", width=0.6, ax=ax)\n"
     ]
    },
    {
     "name": "stdout",
     "output_type": "stream",
     "text": [
      "Plot saved to /vol/bitbucket/hrm20/fyp/analysis/RQ3/roberta_large_mnli_rq3_1_seed_stability.png\n",
      "Plot saved to /vol/bitbucket/hrm20/fyp/analysis/RQ3/roberta_large_mnli_rq3_2_epoch_stability.png\n",
      "  -> Generating RQ1 plots for Xlnet-Base on MNLI\n",
      "Plot saved to /vol/bitbucket/hrm20/fyp/analysis/RQ1/xlnet_base_mnli_rq1_avg_correlation.png\n",
      "Plot saved to /vol/bitbucket/hrm20/fyp/analysis/RQ1/xlnet_base_mnli_rq1_std_correlation.png\n",
      "  -> Generating RQ3 plots for xlnet_base on MNLI\n"
     ]
    },
    {
     "name": "stderr",
     "output_type": "stream",
     "text": [
      "/tmp/ipykernel_3987033/2227277631.py:19: FutureWarning: \n",
      "\n",
      "Passing `palette` without assigning `hue` is deprecated and will be removed in v0.14.0. Assign the `x` variable to `hue` and set `legend=False` for the same effect.\n",
      "\n",
      "  sns.barplot(x=labels, y=values, palette=\"viridis\", width=0.6, ax=ax)\n"
     ]
    },
    {
     "name": "stdout",
     "output_type": "stream",
     "text": [
      "Plot saved to /vol/bitbucket/hrm20/fyp/analysis/RQ3/xlnet_base_mnli_rq3_1_seed_stability.png\n",
      "Plot saved to /vol/bitbucket/hrm20/fyp/analysis/RQ3/xlnet_base_mnli_rq3_2_epoch_stability.png\n",
      "  -> Generating RQ1 plots for Xlnet-Large on MNLI\n",
      "Plot saved to /vol/bitbucket/hrm20/fyp/analysis/RQ1/xlnet_large_mnli_rq1_avg_correlation.png\n",
      "Plot saved to /vol/bitbucket/hrm20/fyp/analysis/RQ1/xlnet_large_mnli_rq1_std_correlation.png\n",
      "  -> Generating RQ3 plots for xlnet_large on MNLI\n"
     ]
    },
    {
     "name": "stderr",
     "output_type": "stream",
     "text": [
      "/tmp/ipykernel_3987033/2227277631.py:19: FutureWarning: \n",
      "\n",
      "Passing `palette` without assigning `hue` is deprecated and will be removed in v0.14.0. Assign the `x` variable to `hue` and set `legend=False` for the same effect.\n",
      "\n",
      "  sns.barplot(x=labels, y=values, palette=\"viridis\", width=0.6, ax=ax)\n"
     ]
    },
    {
     "name": "stdout",
     "output_type": "stream",
     "text": [
      "Plot saved to /vol/bitbucket/hrm20/fyp/analysis/RQ3/xlnet_large_mnli_rq3_1_seed_stability.png\n",
      "Plot saved to /vol/bitbucket/hrm20/fyp/analysis/RQ3/xlnet_large_mnli_rq3_2_epoch_stability.png\n",
      "\n",
      "--- Generating final summary plots ---\n"
     ]
    },
    {
     "data": {
      "image/png": "[encoded data removed]",
      "text/plain": [
       "<Figure size 800x400 with 1 Axes>"
      ]
     },
     "metadata": {},
     "output_type": "display_data"
    },
    {
     "data": {
      "image/png": "[encoded data removed]",
      "text/plain": [
       "<Figure size 1400x600 with 1 Axes>"
      ]
     },
     "metadata": {},
     "output_type": "display_data"
    },
    {
     "name": "stdout",
     "output_type": "stream",
     "text": [
      "\n",
      "--- Analysis complete. All plots saved to '/vol/bitbucket/hrm20/fyp/analysis' directory. ---\n"
     ]
    }
   ],
   "source": [
    "def main():\n",
    "    \"\"\"Main function to run the entire analysis pipeline.\"\"\"\n",
    "    summary_path = BASE_OUTPUT_DIR / SUMMARY_FILENAME\n",
    "\n",
    "    if not summary_path.exists():\n",
    "        create_summary_file()\n",
    "    \n",
    "    print(f\"\\n--- Loading pre-processed data from '{summary_path}' ---\")\n",
    "    with open(summary_path, \"rb\") as f:\n",
    "        preprocessed = pickle.load(f)\n",
    "        all_ranks = preprocessed[\"avg_ranks\"]\n",
    "        cross_seed_corrs = preprocessed[\"cross_seed_corrs\"]\n",
    "\n",
    "    print(\"\\n--- Generating all analysis plots ---\")\n",
    "\n",
    "    rq1_output_dir = BASE_OUTPUT_DIR / \"RQ1\"\n",
    "    rq2_output_dir = BASE_OUTPUT_DIR / \"RQ2\"\n",
    "    rq3_output_dir = BASE_OUTPUT_DIR / \"RQ3\"\n",
    "    \n",
    "    generate_rq2_plots(all_ranks, rq2_output_dir)\n",
    "\n",
    "    for ds in DATASETS:\n",
    "        for family in MODEL_FAMILIES:\n",
    "            metrics_for_family = ALL_METRICS if family == 'roberta' else [m for m in ALL_METRICS if m != 'grand']\n",
    "            \n",
    "            for size in MODEL_SIZES:\n",
    "                model_key = f\"{family}_{size}\"\n",
    "                title_name = f'{model_key.replace(\"_\", \"-\").title()} on {ds}'\n",
    "                model_path = BASE_ARTIFACT_DIR / f\"{model_key}_{ds.lower()}/\"\n",
    "\n",
    "                generate_rq1_correlation_heatmaps(model_path, title_name, rq1_output_dir, metrics_for_family, model_key, ds)\n",
    "                \n",
    "                seed_data = cross_seed_corrs.get(ds, {}).get(model_key, {})\n",
    "                generate_rq3_plots(model_key, ds, rq3_output_dir, seed_data, metrics_for_family)\n",
    "\n",
    "    generate_summary_plots(all_ranks, cross_seed_corrs, BASE_OUTPUT_DIR)\n",
    "\n",
    "    print(f\"\\n--- Analysis complete. All plots saved to '{BASE_OUTPUT_DIR.resolve()}' directory. ---\")\n",
    "    \n",
    "main()"
   ]
  }
 ],
 "metadata": {
  "kernelspec": {
   "display_name": "fypenv",
   "language": "python",
   "name": "fypenv"
  },
  "language_info": {
   "codemirror_mode": {
    "name": "ipython",
    "version": 3
   },
   "file_extension": ".py",
   "mimetype": "text/x-python",
   "name": "python",
   "nbconvert_exporter": "python",
   "pygments_lexer": "ipython3",
   "version": "3.10.12"
  }
 },
 "nbformat": 4,
 "nbformat_minor": 5
}
